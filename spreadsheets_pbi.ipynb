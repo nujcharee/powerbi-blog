{
  "nbformat": 4,
  "nbformat_minor": 0,
  "metadata": {
    "colab": {
      "name": "Untitled0.ipynb",
      "version": "0.3.2",
      "provenance": [],
      "collapsed_sections": [],
      "include_colab_link": true
    },
    "kernelspec": {
      "name": "python3",
      "display_name": "Python 3"
    }
  },
  "cells": [
    {
      "cell_type": "markdown",
      "metadata": {
        "id": "view-in-github",
        "colab_type": "text"
      },
      "source": [
        "<a href=\"https://colab.research.google.com/github/nujcharee/powerbi-blog/blob/dev/spreadsheets_pbi.ipynb\" target=\"_parent\"><img src=\"https://colab.research.google.com/assets/colab-badge.svg\" alt=\"Open In Colab\"/></a>"
      ]
    },
    {
      "metadata": {
        "id": "pdhVEVd42PAK",
        "colab_type": "text"
      },
      "cell_type": "markdown",
      "source": [
        "## Pre-requisite\n",
        "\n",
        "In this tutorial, you will learn how to load, manipulate and visualise data using PowerBI Deskp and carry out explorary data analysis (EDA).\n",
        "\n",
        "Generally, spreadsheets are used in business as an accounting tool thanks to its built-in mathematical & accounting functions. In many cases, spreadsheets are used as a database tool to store information in a tabluar format, which is in columns and row format.\n",
        "\n",
        "Spreadsheets come in different platforms such as Microsoft Excel, Google Sheets, Numbers by Apple, Apache OpenOffice Calc etc...In this tutorial, we will be working with Microsoft’s Excel. \n",
        "\n",
        "\n",
        "\n",
        "## Installation\n",
        "\n",
        "## Processing spreadsheets \n",
        "\n",
        "\n",
        "\n",
        "\n",
        "Let's get started\n",
        "\n",
        "First, open PowerBI Desktop\n",
        "\n",
        "![alt text](https://raw.githubusercontent.com/nujcharee/powerbi-blog/master/src/pages/screenshots/getdata.PNG)\n",
        "\n",
        "![alt text](https://raw.githubusercontent.com/nujcharee/powerbi-blog/master/src/pages/screenshots/Screenshot 2019-03-11 at 12.11.41.png)\n",
        "\n",
        "\n",
        "\n",
        "![alt text](https://raw.githubusercontent.com/nujcharee/powerbi-blog/master/src/pages/screenshots/powerbi_welcome.png)"
      ]
    }
  ]
}